{
  "nbformat": 4,
  "nbformat_minor": 0,
  "metadata": {
    "colab": {
      "name": "templates_loli.ipynb",
      "provenance": [],
      "collapsed_sections": []
    },
    "kernelspec": {
      "name": "python3",
      "display_name": "Python 3"
    },
    "language_info": {
      "name": "python"
    }
  },
  "cells": [
    {
      "cell_type": "code",
      "metadata": {
        "colab": {
          "base_uri": "https://localhost:8080/"
        },
        "id": "cTMCd-FK3-1O",
        "outputId": "d88e8455-d59d-4bce-8e76-d5d23b4d2553"
      },
      "source": [
        "%%writefile template_1.cpp\n",
        "#include <iostream>\n",
        "\n",
        "#ifndef ENEMIGOS_HPP\n",
        "#define ENEMIGOS_HPP\n",
        "\n",
        "template <class Tipo>\n",
        "class Enemigos\n",
        "{\n",
        "public:\n",
        "\tEnemigos(){\n",
        "      Adversarios = nullptr;\n",
        "  \tCant = 0;\n",
        "  }\n",
        "\t~Enemigos(){\n",
        "\t\tdelete Adversarios;\n",
        "\t}\n",
        "\n",
        "\tvoid Aniadir(Tipo* nAdversario){\n",
        "\t\tTipo** Aux = new Tipo * [Cant + 1];\n",
        "\t\tfor (int i = 0; i < Cant; i++)\n",
        "\t\t{\n",
        "\t\tAux[i] = Adversarios[i];\n",
        "\t\t}\n",
        "\t\tAux[Cant] = nAdversario;\n",
        "\t\tCant++;\n",
        "\t\tAdversarios = Aux;\n",
        " \t}\n",
        " \n",
        "\tvoid Eliminar(short pos){\n",
        "      if(pos < 0 || pos >= Cant) return;\n",
        "      if(Cant == 1){\n",
        "          delete Adversarios;\n",
        "          Adversarios = nullptr;\n",
        "          Cant = 0;\n",
        "\t\t  return;\n",
        "      }\n",
        "\n",
        "      Tipo** Aux = new Tipo * [Cant - 1];\n",
        "\n",
        "      int indx = 0;\n",
        "      for (int i = 0; i < Cant; i++)\n",
        "      {\n",
        "        if(i == pos) continue;\n",
        "        Aux[indx] = Adversarios[i];\n",
        "       indx++;\n",
        "      }\n",
        "\n",
        "\tdelete Adversarios[pos];\n",
        "\n",
        "      Cant--;\n",
        "      Adversarios = Aux;\n",
        "  }\n",
        " \n",
        "\tTipo* GetEnemigo(short pos){\n",
        "\t\tif(Cant == 0)return nullptr;\n",
        "\t\tif(pos < 0 || pos > Cant) return nullptr;\n",
        "\t\treturn Adversarios[pos];\n",
        "\t}\n",
        "\n",
        "\tbool SePuedenCrearMas(int max){\n",
        "\t\tif (Cant < max) return true;\n",
        "\t\treturn false;\n",
        "\t}\n",
        "\n",
        "\tshort GetCant(){\n",
        "\t\treturn Cant;\n",
        "\t}\n",
        "\n",
        "private:\n",
        "\tTipo** Adversarios;\n",
        "\tshort Cant;\n",
        "\n",
        "};\n",
        "\n",
        "#endif // !ENEMIGOS_HPP\n",
        "\n",
        "int main(){\n",
        "\n",
        "\tEnemigos<int> enemigosInt;\n",
        "\tEnemigos<float> enemigosFloat;\n",
        "\n",
        "\tenemigosInt.Aniadir(new int(10));\n",
        "\tenemigosInt.Aniadir(new int(11));\n",
        "\tenemigosInt.Eliminar(1);\n",
        "\n",
        "\tenemigosFloat.Aniadir(new float(10.5));\n",
        "\tenemigosFloat.Aniadir(new float(2.86));\n",
        "\tenemigosFloat.Aniadir(new float(32.1));\n",
        "\tenemigosFloat.Eliminar(0);\n",
        "\n",
        "\tstd::cout << \"cantidad INT: \" << enemigosInt.GetCant()  << \"\\n\";\n",
        "\tfor (size_t i = 0; i < enemigosInt.GetCant(); i++)\n",
        "\t{\n",
        "\t\tstd::cout << \"-> \" << *enemigosInt.GetEnemigo(i) << \"\\n\";\n",
        "\t}\n",
        "\t\n",
        "\tstd::cout << \"\\n\";\n",
        "\n",
        "\tstd::cout << \"cantidad FLOAT: \" << enemigosFloat.GetCant() << \"\\n\";\n",
        "\tfor (size_t i = 0; i < enemigosFloat.GetCant(); i++)\n",
        "\t{\n",
        "\t\tstd::cout << \"-> \" << *enemigosFloat.GetEnemigo(i) << \"\\n\";\n",
        "\t}\n",
        "\t\n",
        "\treturn 0;\n",
        "}"
      ],
      "execution_count": 4,
      "outputs": [
        {
          "output_type": "stream",
          "name": "stdout",
          "text": [
            "Overwriting template_1.cpp\n"
          ]
        }
      ]
    },
    {
      "cell_type": "code",
      "metadata": {
        "colab": {
          "base_uri": "https://localhost:8080/"
        },
        "id": "h3Dfs1X94Jkj",
        "outputId": "6c2bf181-20f0-448f-d7df-d6f222db8b71"
      },
      "source": [
        "%%writefile template_2.cpp\n",
        "#include <iostream>\n",
        "\n",
        "template<class Type>\n",
        "class Vector2{\n",
        "\tType x,y;\n",
        "\n",
        "\tpublic:\n",
        "\tVector2(Type _x = 0, Type _y = 0){\n",
        "\t\tx = _x;\n",
        "\t\ty = _y;\n",
        "\t}\n",
        "\n",
        "\t~Vector2(){}\n",
        "\n",
        "\tType GetX(){return x;}\n",
        "\n",
        "\tType GetY(){return y;}\n",
        "};\n",
        "\n",
        "int main(){\n",
        "\n",
        "\tVector2<float> pos{10.5f,15};\n",
        "\tVector2<int>   windowSize{500,500};\n",
        "\tVector2<std::string>  names{\"pedro\", \"jimenez\"};\n",
        "\n",
        "\tstd::cout << pos.GetX() << \" - \" << pos.GetY() << \"\\n\";\n",
        "\n",
        "\tstd::cout << names.GetX() << \" - \" << names.GetY() << \"\\n\";\n",
        "\n",
        "\treturn 0;\n",
        "}"
      ],
      "execution_count": 2,
      "outputs": [
        {
          "output_type": "stream",
          "name": "stdout",
          "text": [
            "Writing template_2.cpp\n"
          ]
        }
      ]
    },
    {
      "cell_type": "code",
      "metadata": {
        "colab": {
          "base_uri": "https://localhost:8080/"
        },
        "id": "dZlc7nUp4SHH",
        "outputId": "ddef99f1-9042-47a5-fa4c-1609204de9e3"
      },
      "source": [
        "%%writefile template_3.cpp\n",
        "#include <iostream>\n",
        "#include <map>\n",
        "#include <string>\n",
        "\n",
        "class Entity{\n",
        "\tpublic:\n",
        "\tEntity(){}\n",
        "\tvirtual ~Entity(){}\n",
        "\tvirtual void update() = 0;\n",
        "\tvirtual void draw() = 0;\n",
        "};\n",
        "\n",
        "class Enemy: public Entity{\n",
        "\tpublic:\n",
        "\tEnemy():Entity(){}\n",
        "\t~Enemy(){}\n",
        "\tvoid update(){std::cout << \"update -> enemigo\" << \"\\n\";}\n",
        "\tvoid draw(){std::cout << \"draw -> enemigo\" << \"\\n\";}\n",
        "\n",
        "\tvoid fly(){\n",
        "\t\tstd::cout << \"enemigo: estoy volando\" << \"\\n\";\n",
        "\t}\n",
        "};\n",
        "\n",
        "class Player: public Entity{\n",
        "\tpublic:\n",
        "\tPlayer():Entity(){}\n",
        "\t~Player(){}\n",
        "\tvoid update(){std::cout << \"update -> jugador\" << \"\\n\";}\n",
        "\tvoid draw(){std::cout << \"draw -> jugador\" << \"\\n\";}\n",
        "\n",
        "\tvoid respawn(){\n",
        "\t\tstd::cout << \"jugador: volvi a nacer\" << \"\\n\";\n",
        "\t}\n",
        "};\n",
        "\n",
        "struct Entities : public std::map<std::string, Entity*>{\n",
        "\tEntities(){}\n",
        "\t~Entities(){\n",
        "\t\tfor(auto ent: *this){\n",
        "\t\t\tdelete ent.second;\n",
        "\t\t}\n",
        "\t\tclear();\n",
        "\t}\n",
        "};\n",
        "\n",
        "template <class type>\n",
        "type* GetEntity(Entities& container, std::string name){\n",
        "\treturn (type*)container[name];\n",
        "}\n",
        "\n",
        "int main(){\n",
        "\tEntities container;\n",
        "\n",
        "\tcontainer[\"player\"] = new Player();\n",
        "\tcontainer[\"enemy\"] = new Enemy();\n",
        "\n",
        "\tfor(auto ent: container){\n",
        "\t\tent.second->update();\n",
        "\t}\n",
        "\n",
        "\tGetEntity<Player>(container, \"player\")->respawn();\n",
        "\tGetEntity<Enemy>(container, \"enemy\")->fly();\n",
        "\n",
        "\tfor(auto ent: container){\n",
        "\t\tent.second->draw();\n",
        "\t}\n",
        "}"
      ],
      "execution_count": 3,
      "outputs": [
        {
          "output_type": "stream",
          "name": "stdout",
          "text": [
            "Writing template_3.cpp\n"
          ]
        }
      ]
    },
    {
      "cell_type": "code",
      "metadata": {
        "colab": {
          "base_uri": "https://localhost:8080/"
        },
        "id": "llXJVHKe4fQ7",
        "outputId": "7b370302-8a6c-4557-c74e-5051a7b0dd76"
      },
      "source": [
        "!g++ template_3.cpp -o test.exe && ./test.exe"
      ],
      "execution_count": 7,
      "outputs": [
        {
          "output_type": "stream",
          "name": "stdout",
          "text": [
            "update -> enemigo\n",
            "update -> jugador\n",
            "jugador: volvi a nacer\n",
            "enemigo: estoy volando\n",
            "draw -> enemigo\n",
            "draw -> jugador\n"
          ]
        }
      ]
    }
  ]
}